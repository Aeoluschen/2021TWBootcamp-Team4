{
 "cells": [
  {
   "cell_type": "markdown",
   "metadata": {},
   "source": [
    "# Web Clawer 爬蟲 Google 評論\n",
    "\n",
    "reference: https://blog.gtwang.org/programming/python-beautiful-soup-module-scrape-web-pages-tutorial/ \n",
    "https://medium.com/marketingdatascience/google-map-review-%E5%8B%95%E6%85%8B%E7%88%AC%E8%9F%B2-%E5%9B%9B-%E5%A6%82%E4%BD%95%E7%8D%B2%E5%8F%96%E5%BA%97%E5%AE%B6%E8%A9%95%E8%AB%96%E5%85%A7%E5%AE%B9-%E5%9C%96%E7%89%87%E4%BB%A5%E5%8F%8A%E7%AF%A9%E9%81%B8%E8%A9%95%E8%AB%96-%E9%99%84python%E7%A8%8B%E5%BC%8F%E7%A2%BC-33a06a671d13\n"
   ]
  },
  {
   "cell_type": "code",
   "execution_count": 1,
   "metadata": {},
   "outputs": [],
   "source": [
    "from selenium import webdriver\n",
    "from selenium.webdriver.common.by import By\n",
    "from selenium.webdriver.support.ui import WebDriverWait\n",
    "from selenium.webdriver.support import expected_conditions as EC"
   ]
  },
  {
   "cell_type": "code",
   "execution_count": 2,
   "metadata": {},
   "outputs": [],
   "source": [
    "from bs4 import BeautifulSoup\n",
    "import re\n",
    "import time"
   ]
  },
  {
   "cell_type": "markdown",
   "metadata": {},
   "source": [
    "\n",
    "\n",
    "## 1. 測試區"
   ]
  },
  {
   "cell_type": "code",
   "execution_count": 4,
   "metadata": {},
   "outputs": [],
   "source": [
    "driver = webdriver.Chrome() #開啟虛擬的google Chrome \n",
    "#要記得把chrome_driver放在子目錄下"
   ]
  },
  {
   "cell_type": "code",
   "execution_count": 5,
   "metadata": {},
   "outputs": [],
   "source": [
    "driver.get(\"https://www.google.com.tw/maps/@23.8759391,120.588669,8z?hl=zh-TW\") #進入google map\n",
    "element = driver.find_element_by_id(\"searchboxinput\") #找到網頁中的 search box\n",
    "element.send_keys(\"彼刻餐酒館\") #填入資料\n",
    "time.sleep(5) #等待網頁load\n",
    "search_button = driver.find_element_by_class_name(\"searchbox-searchbutton\") #找到網頁中搜尋的 button\n",
    "search_button.click() #進入要搜尋的網頁\n",
    "time.sleep(5) #等待網頁load\n",
    "expand_button = driver.find_element_by_class_name(\"widget-pane-link\") #找到網頁中評論的 button\n",
    "expand_button.click() #\n"
   ]
  },
  {
   "cell_type": "markdown",
   "metadata": {},
   "source": [
    "### 測試下滑頁面"
   ]
  },
  {
   "cell_type": "code",
   "execution_count": 6,
   "metadata": {},
   "outputs": [],
   "source": [
    "pane = driver.find_element_by_xpath('//*[@id=\"pane\"]/div/div[1]/div/div/div[2]')  #找到左邊的方框\n",
    "driver.execute_script(\"arguments[0].scrollBy(0, 300)\", pane) #向下滑(0到300)  "
   ]
  },
  {
   "cell_type": "markdown",
   "metadata": {},
   "source": [
    "### 展開評論的網頁"
   ]
  },
  {
   "cell_type": "code",
   "execution_count": 7,
   "metadata": {},
   "outputs": [],
   "source": [
    "expand_review_button =  driver.find_element_by_css_selector('[jsaction = \"pane.review.expandReview\"]')\n",
    "expand_review_button.click()\n",
    "driver.execute_script(\"arguments[0].scrollBy(0, 300)\", pane) #向下滑(0到300)  "
   ]
  },
  {
   "cell_type": "code",
   "execution_count": 8,
   "metadata": {},
   "outputs": [],
   "source": [
    "#如果有多筆資料，以第一筆的資料蒐集結果為主\n",
    "driver.get(\"https://www.google.com.tw/maps/@23.8759391,120.588669,8z?hl=zh-TW\") #進入google map\n",
    "element = driver.find_element_by_id(\"searchboxinput\") #找到網頁中的 search box\n",
    "element.send_keys(\"麥當勞\") #填入資料\n",
    "time.sleep(5) #等待網頁load\n",
    "search_button = driver.find_element_by_class_name(\"searchbox-searchbutton\") #找到網頁中搜尋的 button\n",
    "search_button.click() #進入要搜尋的網頁\n",
    "time.sleep(5)\n",
    "try : #尋找符合的第一筆資料\n",
    "#     first_button = driver.find_element_by_xpath('//*[@id=\"pane\"]/div/div[1]/div/div/div[4]/div[1]/div[1]/div/a')\n",
    "    first_button = driver.find_element_by_css_selector(\"[jsaction*='clickmod']\")\n",
    "    first_button.click()\n",
    "except:\n",
    "    print(\"except\")\n"
   ]
  },
  {
   "cell_type": "markdown",
   "metadata": {},
   "source": [
    "### 測試抓評論"
   ]
  },
  {
   "cell_type": "code",
   "execution_count": null,
   "metadata": {},
   "outputs": [],
   "source": [
    "driver = webdriver.Chrome()"
   ]
  },
  {
   "cell_type": "code",
   "execution_count": 9,
   "metadata": {},
   "outputs": [
    {
     "name": "stdout",
     "output_type": "stream",
     "text": [
      "Already find the result\n",
      "start rolling\n",
      "nothing can expand\n"
     ]
    }
   ],
   "source": [
    "driver.get(\"https://www.google.com.tw/maps/@23.8759391,120.588669,8z?hl=zh-TW\")\n",
    "element = driver.find_element_by_id(\"searchboxinput\") #找到網頁中的 search box\n",
    "element.send_keys(\"彼刻餐酒館\") #填入資料\n",
    "search_button = driver.find_element_by_class_name(\"searchbox-searchbutton\") #找到網頁中搜尋的 button\n",
    "search_button.click() #\n",
    "try: #如果有多個選項就選第一個\n",
    "    first_button = driver.find_element_by_css_selector(\"[jsaction*='clickmod']\")\n",
    "    first_button.click()\n",
    "except:\n",
    "    print(\"Already find the result\")\n",
    "time.sleep(3)\n",
    "\n",
    "expand_button = WebDriverWait(driver, 10).until(\n",
    "        EC.presence_of_element_located((By.CLASS_NAME,(\"widget-pane-link\"))) #找到網頁中評論的 button\n",
    "    )\n",
    "expand_button.click() #展開評論\n",
    "time.sleep(3)\n",
    "print(\"start rolling\")\n",
    "\n",
    "pane2 = driver.find_element_by_xpath('//*[@id=\"pane\"]/div/div[1]/div/div/div[2]')  #找到左邊的方框\n",
    "driver.execute_script(\"arguments[0].scrollBy(0, 900)\", pane2) #向下滑(0到300)  \n",
    "\n",
    "try: #如果評論可以展開，展開評論\n",
    "    expand_review_button =  driver.find_element_by_css_selector('[jsaction = \"pane.review.expandReview\"]') \n",
    "    expand_review_button.click()\n",
    "    driver.execute_script(\"arguments[0].scrollBy(0, 50)\", pane) #向下滑(0到300)  \n",
    "except:\n",
    "    print(\"nothing can expand\")\n",
    "    \n",
    "#找rating 跟 評論 放在Review中\n",
    "get_star = driver.find_element(By.XPATH, '//*[@id=\"pane\"]/div/div[1]/div/div/div[2]/div[9]/div[1]/div/div[3]/div[3]/div[1]/span[2]')\n",
    "get_comment = driver.find_element(By.XPATH, '//*[@id=\"pane\"]/div/div[1]/div/div/div[2]/div[9]/div[1]/div/div[3]/div[3]/div[2]/span[2]')\n",
    "\n",
    "\n",
    "Review = dict({\"Comment\": [], \"Rating\":[]})\n",
    "\n",
    "Review[\"Comment\"].append(get_comment.text)\n",
    "Review[\"Rating\"].append(float(get_star.get_attribute('aria-label')[0:2]))\n"
   ]
  },
  {
   "cell_type": "code",
   "execution_count": 10,
   "metadata": {},
   "outputs": [
    {
     "name": "stdout",
     "output_type": "stream",
     "text": [
      "{'Comment': ['疫情下的彼刻：符合現階段的餐飲準則，隔板、距離、分盤。菜單特別挑選，防疫「午/晚餐」每人800/1200低消。\\n\\n三人點了四前菜（煙燻豬頭捲、海鮮蛋煎、炸鯪魚球、炭烤蔬菜），四主餐（海盜寬扁麵、蒜味辣義麵、伊比利豬、含雞腳的大雞腿）\\n兩甜品（油醋橄欖油冰淇淋），一瓶葡萄汁。\\n\\n餐飲感受：\\n1.為了符合疫情限制，餐廳空間可接來客數勢必減少，只好拉高低消價格，調整菜單，使能讓餐廳營運順利。\\n2.客人為了達到低消，也就需要點得多些，尤其我們沒有點「酒」類，所以實在吃得真真飽。\\n3.菜色、口味的品質很不錯，有別於一般義式餐廳，尤其是義麵Q彈有嚼勁，特別喜歡。\\n4.服務部分特別一提：炸鯪魚球裡出現約莫1公分的魚細刺，店家表示有小小刺是正常但如此長度則確有不妥，因此感到抱歉並招待該道料理。關於此事，三人當中一人沒感覺就享受入腹，一人感到有刺但不以為意，咬一咬也入口了。唯有我吃東西不囫圇吞棗、細細品味才會發現有這樣長度的刺並取出來。不過，也因為有各式各樣的客人，所以店家必須謹慎料理每一次的餐點。\\n5.疫情下的餐廳飲食體驗不同於以往，$$得多些、店家服務會好些、用餐環境無吵雜人聲、但隔板還是會影響用餐的愜意美好氛圍⋯⋯，期待下次更加愉悅的餐飲感受。'], 'Rating': [4.0]}\n"
     ]
    }
   ],
   "source": [
    "print(Review)\n"
   ]
  },
  {
   "cell_type": "markdown",
   "metadata": {},
   "source": [
    "# 2. Class"
   ]
  },
  {
   "cell_type": "code",
   "execution_count": 20,
   "metadata": {},
   "outputs": [],
   "source": [
    "class Google_Review():\n",
    "    \n",
    "    def __init__(self, place_name, driver):\n",
    "        self.place_name = place_name\n",
    "        self.driver = driver\n",
    "        self.driver.get(\"https://www.google.com.tw/maps/@23.8759391,120.588669,8z?hl=zh-TW\")\n",
    "        element = self.driver.find_element_by_id(\"searchboxinput\") #找到網頁中的 search box\n",
    "        element.send_keys(place_name) #填入資料\n",
    "        search_button = self.driver.find_element_by_class_name(\"searchbox-searchbutton\") #找到網頁中搜尋的 button\n",
    "        search_button.click() #\n",
    "        time.sleep(5)\n",
    "        \n",
    "        try : #尋找符合的第一筆資料\n",
    "            print('first element')\n",
    "            \n",
    "            self.first_button = self.driver.find_element_by_css_selector(\"[jsaction*='clickmod']\")\n",
    "            self.first_button.click()\n",
    "        except:\n",
    "            print(\"except\")\n",
    "        \n",
    "        \n",
    "         \n",
    "        expand_button = WebDriverWait(driver, 10).until(\n",
    "                EC.presence_of_element_located((By.CLASS_NAME,(\"widget-pane-link\"))) #找到網頁中評論的 button\n",
    "            )\n",
    "        expand_button.click() #\n",
    "        time.sleep(3)\n",
    "        print(\"start rolling\")\n",
    "\n",
    "        self.pane = self.driver.find_element_by_xpath('//*[@id=\"pane\"]/div/div[1]/div/div/div[2]')  #找到左邊的方框\n",
    "        driver.execute_script(\"arguments[0].scrollBy(0, 100)\", self.pane) #向下滑(0到300) \n",
    "\n",
    "        try: #如果評論可以展開，展開評論\n",
    "            self.expand_review_button =  self.driver.find_element_by_css_selector('[jsaction = \"pane.review.expandReview\"]') \n",
    "            self.expand_review_button.click()\n",
    "            self.driver.execute_script(\"arguments[0].scrollBy(0, 100)\", self.pane) #向下滑(0到300)  \n",
    "        except:\n",
    "            print(\"nothing can expand\")\n",
    "            \n",
    "        self.present_div_count = 1\n",
    "        self.XPATH_star = '//*[@id=\"pane\"]/div/div[1]/div/div/div[2]/div[9]/div['+ str(self.present_div_count) +']/div/div[3]/div[3]/div[1]/span[2]'\n",
    "        self.XPATH_comment = '//*[@id=\"pane\"]/div/div[1]/div/div/div[2]/div[9]/div['+ str(self.present_div_count) +']/div/div[3]/div[3]/div[2]/span[2]'\n",
    "    \n",
    "        get_star = self.driver.find_element(By.XPATH, self.XPATH_star)\n",
    "        get_comment = self.driver.find_element(By.XPATH, self.XPATH_comment)\n",
    "        \n",
    "        self.Review = dict({\"Comment\": [], \"Rating\":[]})\n",
    "        self.Review[\"Comment\"].append(get_comment.text)\n",
    "        self.Review[\"Rating\"].append(float(get_star.get_attribute('aria-label')[0:2]))\n",
    "\n",
    "        \n",
    "    def get_next_review(self):\n",
    "        time.sleep(1)\n",
    "        \n",
    "        try: #如果評論可以展開，展開評論\n",
    "            self.expand_review_button =  self.driver.find_element_by_css_selector('[jsaction = \"pane.review.expandReview\"]') \n",
    "            self.expand_review_button.click()\n",
    "            self.driver.execute_script(\"arguments[0].scrollBy(0, 150)\", self.pane) #向下滑(0到300)\n",
    "            time.sleep(1)\n",
    "        except:\n",
    "            print(\"nothing can expand\")\n",
    "            \n",
    "        #更新要尋找的評論的XPATH\n",
    "        self.present_div_count += 3 #加3是經驗法則\n",
    "        self.XPATH_star = '//*[@id=\"pane\"]/div/div[1]/div/div/div[2]/div[9]/div['+ str(self.present_div_count) +']/div/div[3]/div[3]/div[1]/span[2]'\n",
    "        self.XPATH_comment = '//*[@id=\"pane\"]/div/div[1]/div/div/div[2]/div[9]/div['+ str(self.present_div_count) +']/div/div[3]/div[3]/div[2]/span[2]'\n",
    "    \n",
    "        print(\"test next review\")\n",
    "        try:\n",
    "            get_star = self.driver.find_element(By.XPATH, self.XPATH_star)\n",
    "            get_comment = self.driver.find_element(By.XPATH, self.XPATH_comment)\n",
    "            self.Review[\"Comment\"].append(get_comment.text)\n",
    "            self.Review[\"Rating\"].append(float(get_star.get_attribute('aria-label')[0:2]))\n",
    "        except: #如果不能抓，就滑到頁面底部\n",
    "            self.driver.execute_script(\"arguments[0].scrollBy(0, arguments[0].scrollHeight)\", self.pane) \n",
    "            time.sleep(5)\n",
    "            try: #滑到頁面底部後再次測試抓評論\n",
    "                get_star = self.driver.find_element(By.XPATH, self.XPATH_star)\n",
    "                get_comment = self.driver.find_element(By.XPATH, self.XPATH_comment)\n",
    "                self.Review[\"Comment\"].append(get_comment.text)\n",
    "                self.Review[\"Rating\"].append(float(get_star.get_attribute('aria-label')[0:2]))\n",
    "            except: #如果還是不能抓應該就是沒有評論了\n",
    "                print(\"Already Get the Last Comment\")\n",
    "#             get_next_review(self)\n",
    "            \n",
    "    def get_review(self, number): #選擇你要拿幾個 review\n",
    "        self.number = number\n",
    "        for _ in range(0,self.number):\n",
    "            try:\n",
    "                self.get_next_review()\n",
    "            except:\n",
    "                print(\"can't get reviews\")\n",
    "                break\n",
    "                \n",
    "            \n",
    "        \n",
    "\n",
    "    "
   ]
  },
  {
   "cell_type": "code",
   "execution_count": 21,
   "metadata": {},
   "outputs": [],
   "source": [
    "driver = webdriver.Chrome()"
   ]
  },
  {
   "cell_type": "code",
   "execution_count": 22,
   "metadata": {},
   "outputs": [
    {
     "name": "stdout",
     "output_type": "stream",
     "text": [
      "first element\n",
      "start rolling\n"
     ]
    }
   ],
   "source": [
    "try_class = Google_Review(\"摩斯漢堡\", driver)"
   ]
  },
  {
   "cell_type": "code",
   "execution_count": 25,
   "metadata": {},
   "outputs": [
    {
     "name": "stdout",
     "output_type": "stream",
     "text": [
      "test next review\n",
      "test next review\n",
      "nothing can expand\n",
      "test next review\n",
      "nothing can expand\n",
      "test next review\n",
      "nothing can expand\n",
      "test next review\n",
      "nothing can expand\n",
      "test next review\n",
      "nothing can expand\n",
      "test next review\n",
      "nothing can expand\n",
      "test next review\n",
      "nothing can expand\n",
      "test next review\n",
      "nothing can expand\n",
      "test next review\n",
      "test next review\n",
      "nothing can expand\n",
      "test next review\n",
      "nothing can expand\n",
      "test next review\n",
      "nothing can expand\n",
      "test next review\n",
      "nothing can expand\n",
      "test next review\n",
      "nothing can expand\n",
      "test next review\n",
      "nothing can expand\n",
      "test next review\n",
      "nothing can expand\n",
      "test next review\n",
      "nothing can expand\n",
      "test next review\n",
      "nothing can expand\n",
      "test next review\n"
     ]
    }
   ],
   "source": [
    "#取出你想要的評論數\n",
    "try_class.get_review(20)"
   ]
  },
  {
   "cell_type": "code",
   "execution_count": 26,
   "metadata": {},
   "outputs": [
    {
     "name": "stdout",
     "output_type": "stream",
     "text": [
      "{'Comment': ['服務不錯，可能因為疫情的關係比較好打電話過去點餐。三個套餐外帶大概15分鐘內處理好，跟路程算一致。\\n珍珠堡蠻有飽足感的，不過玉米濃湯比較粉粉的，口感沒有特別好，雞塊很特別，吃起來很好咬，皮比較薄。', '除了不好停車以外，沒有其他可以挑剔的地方，服務也很棒', '這間分店生意還不錯，所以有時候會等比較久，店面有點復古感，但貼皮的地面已經有點斑駁、損壞，有時候髒東西都卡在地板的隙縫中，不是很乾淨的感覺，希望有機會能翻修。\\n內用的座位還算多，孩童與學生常在此出沒，一樓聲音有點兒吵雜，二樓比較安靜。\\n店內的音樂固定都是同樣的旋律，常來的客人聽得有點兒膩，可以輪播新的歌曲較有新意。\\n服務還算不錯，老店員會認常客，有時候很令人感覺貼心、溫馨。', '每次如果餐期來買都要等20分鐘以上，趕時間不適合點的速食店，是目前吃過最慢的mos漢堡店', '紅茶跟糖水一樣 一點茶香味都沒有 全台中就屬於這間 最糟 可不可以學一下豐原店 或是 台灣大道中科', '愛吃紅豆派及海鮮米漢堡，歷久不衰！', '在網路上看到職缺 可以固定班\\n去到那邊面試的人也沒準備履歷表\\n還直接叫我去櫃檯那邊拿\\n然後還要輪班 ，啊網路上是在寫好玩的？\\n還問說輪班跟出來找工作有需要問家裡的人嗎？\\n請問找工作關家裡什麼事情？\\n\\n真的浪費我時間！！', '服務員態度很差 才點完兩份套餐也不問還有沒有需要的直接幫我結帳\\n啊我還要點其他餐啊^ ^', '其中一個服務人員態度很差，點餐問題回話顯得不耐煩，拿號碼牌等候用命令大聲的口氣，而另外兩位服務不錯也客氣（戴眼鏡），請公司重視員工素質！明明東西很好吃卻被員工的態度影響光顧的意願，可惜….', '在崇德路上很好找但是不好停車，裡面有兩台自助點餐機，點完餐後記得拿號碼牌取餐，現在好像也有接受線上點餐，很方便', '使用店內點餐機點餐後，那了號碼牌因不知要結帳後，點餐流程很有問題，等了20分鐘後櫃檯才問我取餐了沒，比我晚進來的都一個結帳取餐都離開了，我等了20分鐘才有人來訊問，櫃檯還很不客氣的說“你現在點才會開始做“，等我離開剛好30分鐘，流程及服務不佳！', '服務不錯，餐點協助送到位子，服務態度很好。', '最喜歡海洋珍珠堡， 不過價格真的算貴就是了', '防疫措施優良 服務好 餐點佳', '店員對餐飲優惠不熟，最好先準備好官方優惠照片', '今天是2019 4月14號，這家在崇德路上的摩斯米堡他是超級大， 1樓有位子， 2樓也有位子，進到2樓，大部分都是學生，還有家教在教學生或是父母教小孩或是自己在讀書，真是鬧中取靜，很棒的一個讀書的地方，非常有氣氛，因為大家都在讀書。點了一個日出蛋堡，真的是一顆圓圓的蛋在裡面，蛋黃吃起來太乾燥，口感不好。雞肉地瓜沙拉，地瓜很好吃。雞塊也是一般。在這邊可以安靜的讀書，就是這一家摩斯唯一的優勢。', '出餐慢到不行！然後員工問內用或外帶，我說外帶，既然人員給我內用（傻眼），服務不周又不專業！\\n趕時間的客人，非常不建議來買！', '店員對餐點似乎不是很熟悉，餐點的組合也略顯複雜，套餐升級就沒有雞塊了？實在讓人很難理解，送來的雞塊也不是很熱', '點餐極慢\\n結帳極慢\\n出餐極慢\\n這叫速食店...？', '強烈建議辦摩斯卡，點數優惠很好用！消費500給兩點，一點可以換一杯45元的咖啡，這%數自己算XD。app點餐+線上支付還可以省掉不少時間，拿了就走', '第一次吃品質這麼差的店\\n其他間都不會把洋蔥圈炸成洋蔥條\\n還炸到黑掉？ …', '環境髒亂，座椅滿舊的。人員泡熱可可隨便泡的感覺', '下午2:00，點吉士漢堡說沒洋蔥，點燒肉珍珠堡說煎台在清潔，一間連招牌的燒肉珍珠堡都沒賣的摩斯還去幹嘛！', '乾淨又好吃且不油', '買了一杯可樂、雞塊跟兩杯49元的蒟蒻。在18：29分結完帳，當下就拿到可樂與蒟蒻，一直都知道摩斯的雞塊是現炸，理解現炸需要等，所以在現場等了十幾分鐘才拿到雞塊（櫃台人員放到小紙袋裡）拿回車上，開一段路想說來吃雞塊，結果掏出來的居然是一包薯條=     =\\n\\n開車回到店裡已經差不多五十幾分了，但離拿到雞塊也不過十分鐘左右的時間，在跟店員反應時居然完全沒有印象，明明點餐跟給餐都是同個店員。\\n\\n員工訓練請加強，雞塊跟薯條分不清楚，店員拿餐時沒有檢查才會發生這樣的事情，才不會一來一回浪費顧客時間。', '是吃太慢嗎？變色囉⋯⋯', '環境不錯，只是時間久了有些東西也舊了需要改善，\\n像是洗手台，還有樓梯的整潔這些可能要慢慢改善。', '想要歇腳，或嘗試不同的感覺，就可以在這裡小坐。', '建議摩斯app優惠使用過後，將QR code取消，避免使用者忘記是否使用過及造成門市困擾，另外自助點餐機真的太難用', '座位舒適，送餐速度也不慢，值得來用餐！', '最近一樓用餐區油煙味變非常重，感覺廚房的排煙系統故障了，嚴重影響用餐品質，希望可以改善', '薑燒豬肉珍珠米漢堡很美味！蒟蒻Q彈，紅茶也很好喝！', '20180711\\n買了晚餐雞腿塊，一拿回家發現整包只有一塊 其他都是薯條..錯太大了麻煩請幫我註記(而且我很討厭吃薯條 唉...)麻煩下次我去再幫我補償了\\n\\n------------\\n偶爾人不多的時候停車還算方便，裡面巷子也可以留電話給住戶暫停一下', '餐點好吃，外帶建議先用ＡＰＰ預訂，不然用餐時間可能會等上一陣子！', '外帶的兩杯冰紅茶裝在一個紙袋裡，結果紙袋一拿從底部破掉，兩杯冰紅茶潑灑在鞋子及地板...一滴不剩...\\n很生氣的打電話到店裡本想反應紙袋太脆弱，應該改進，出乎意料的店裡服務人員除道歉外，主動外送到府兩杯一樣的冰紅茶！雖然紙袋破了但後續主動道歉，外送服務一百分！', 'App早餐優惠很佛', '環境優良寬敞舒適 是個休息的好地方\\n但繁忙時間會較吵鬧', '第一次到這間買、東西全少給、\\n我沒跟他確認是我的錯\\n但不會再去第二次', '音樂太大聲了\\n可以小聲一點\\n或放一些輕音樂', '店員親切，外帶建議使用摩斯app，比起電話訂餐更為快速。', '草莓蒟蒻茶歐蕾還不錯\\n二樓位置蠻多的,乾淨舒適'], 'Rating': [5.0, 5.0, 4.0, 1.0, 1.0, 3.0, 1.0, 2.0, 1.0, 4.0, 1.0, 5.0, 4.0, 5.0, 3.0, 5.0, 1.0, 2.0, 1.0, 5.0, 1.0, 2.0, 1.0, 4.0, 1.0, 3.0, 4.0, 3.0, 3.0, 4.0, 1.0, 5.0, 4.0, 4.0, 5.0, 5.0, 4.0, 1.0, 4.0, 5.0, 4.0]}\n"
     ]
    }
   ],
   "source": [
    "print(try_class.Review)"
   ]
  },
  {
   "cell_type": "code",
   "execution_count": 14,
   "metadata": {},
   "outputs": [
    {
     "name": "stdout",
     "output_type": "stream",
     "text": [
      "nothing can expand\n",
      "test next review\n",
      "nothing can expand\n",
      "test next review\n",
      "nothing can expand\n",
      "test next review\n",
      "nothing can expand\n",
      "test next review\n",
      "nothing can expand\n",
      "test next review\n",
      "nothing can expand\n",
      "test next review\n",
      "nothing can expand\n",
      "test next review\n",
      "nothing can expand\n",
      "test next review\n",
      "nothing can expand\n",
      "test next review\n",
      "nothing can expand\n",
      "test next review\n",
      "test next review\n",
      "test next review\n",
      "test next review\n",
      "test next review\n",
      "test next review\n",
      "test next review\n",
      "test next review\n",
      "nothing can expand\n",
      "test next review\n",
      "nothing can expand\n",
      "test next review\n",
      "nothing can expand\n",
      "test next review\n"
     ]
    }
   ],
   "source": [
    "#得到下一則評論\n",
    "for _ in range(0,20):\n",
    "    try_class.get_next_review()"
   ]
  },
  {
   "cell_type": "code",
   "execution_count": 68,
   "metadata": {},
   "outputs": [
    {
     "name": "stdout",
     "output_type": "stream",
     "text": [
      "['難得一片沙灘可供游泳及灘釣又可欣賞美麗夕陽西下的美景', '漁光島是位於安平區緊鄰安平漁港與商港的一個小島，面積約400多公頃，島上一半以上的面積都是森林，近年不時舉行文創市集，在自然風光外也增添許多文化氣息。逛完漁光島可到白河萬里長城，絕美的自然景觀，東巷與關子嶺碧雲寺對望，西向可以觀賞高速公路至海岸景觀，無論日出日落都充滿夢幻之美，高山廣闊的視野非常美好，空氣清新令人舒暢愉悅，日落後更可以欣賞360度夜景與星空星軌，交通方便離高速公路與白河蓮花賞景區只需15分鐘，喜歡旅遊攝影的朋友局不能錯過的新景點。', '很早以前是秋茂園黃秋茂先生創建.懷念以前秋茂園的大小事.烤肉玩沙.一旁沙地很多那種會挖洞的(沙豬)都用頭髮綁螞蟻或小昆蟲就可以釣出來.周圍有可以控窯的地方.還有馬場可以騎迷你馬.擺沙畫的攤販(那時候超級流行沙畫)還有賣蚵仔煎茶葉蛋彈珠汽水店家.可惜之後改建成漁光島.雖然比較美觀也比較乾淨.但是已經沒有以前那種純樸單純的時光回憶.現在安平辦活動這邊都是人擠人.可以說外地人必來的景點吧.要來建議騎摩托車好停車.漁光路與健康路三段叉口兩側都是畫紅線要注意.還有晚上別來因為路燈有點暗加上距離遠.視線不佳.', '人好多QQ\\n但環境蠻乾淨的！感覺有用心在維護，感謝辛苦的維護人員\\n附近的小廟也可以洗手洗腳上廁所，很棒^-^來這坐在石頭上發呆看夕陽很不錯～', '附近為商港海域，有玩風帆、衝浪板、快艇還有戲水，但沒見到救生員，建議做好配套管理，提高整體遊客的停留時間。', '黃昏時分去，看海和夕陽，愜意時光。', '之前就聽說漁光島很有名，因此特別挑黃昏的時間點慕名而來，來島上需要過一座橋，過橋之後就會看到滿滿的車流跟人山人海的人流，下橋之後映入眼簾的是兩側停滿機車再往前走會有各式各樣的攤販的旁邊，我找好停車位之後就趕緊前往海灘了。\\n\\n一踩上沙灘看到橘黃色的夕陽映在海岸線上非常感動，於是馬上拿起自己的單眼開始進行拍攝，雖然說這次準備不足沒有帶可以踩水的裝備跟衣服，但是單純淨淨的待在黃昏時分的沙灘上看海看夕陽的感覺還是非常涼爽舒服。海岸上有許多遊客在拍照，建議有想來的人可以穿拖鞋來踩水，應該會非常舒服有趣喔！', '景色開闊，很美的地方，可以踏浪，孩子們可以玩沙', '漁光島藝術季，真的讓人有種放鬆的感覺，文青又悠閒', '快六點才到\\n來看夕陽～', '台南的浪都滿高的，沙灘海水雲朵，往岸上看還有綠蔭（雖然離徒步有點遠）~美', '時不時會自己去踏浪，停車算方便，附近也有賣小吃，如果腳上有沙的話其實對面停車場（靠近廟那邊），有讓人沖腳的區域喔。', '2020年因氣候變遷、新冠肺炎疫情等因素，導致全球局勢陷入了動盪不安的狀態。今年，漁光島藝術節為回應疫情帶來的不安，所設定的展覽主題為「安棲之嶼」，意指一個可以天人共存、主體可以安身立命的棲居之地。將展覽鎖定在「療癒」二字，以其島嶼的自然環境本質出發，以沙灘、樹林、夕陽、浪花為展場，邀請藝術家轉化環境特質，進而形塑出屬於每個藝術家的療癒空間，聚焦於藝術家感受漁光島環境的反應、個人敘事、與藝術不管對於藝術家本身或者觀者療癒的面向。藝術節期間將安排各類演出及工作坊、市集、餐桌計畫、小旅行等，讓民眾以多種面向感受漁光島的美好風光及人文生活內涵，也希望每個來漁光島的人都能透由轉換與療癒找到屬於自己的安棲之地。\\n3月27日至4月18日期間，每天上午10點至下午6點，漁光島將全面封島，除了島內居民、接駁車及公務車之外，漁光大橋禁止汽機車進入，民眾可至安億停車場、億載金城、健康及育平路口（僅假日及連續假日行駛），搭乘免費接駁車到漁光島，營運時間去程於上午10點至下午5點30分，回程為上午11點30分至下午6點30分。約每15分鐘一班。\\n這次的作品都很有創意，很特別也很好拍，住台南的鄉親一定不要錯過!', '這應該是我看過最最最特別的裝置藝術活動，每一次裝置藝術，隨著不同月份和主題，在沙灘上呈現作品，在沙灘上跳現代舞，雖然看的不是很懂，旁邊都有人在講解，詮釋他們到底在做什麼，都會依每一次活動內容而設計，也會湧進不少人潮參觀及招商，有活動基本上都滿多攤販。\\n感覺是滿不錯的，整體感覺都很一致，整個都文青起來，只是剛好沒有看到我要參加的活動，錯過惹～覺得可惜～\\n要來之前可以看看有沒有活動，比較大型活動，車輛是會管控，要搭接駁車進來，班次我是覺得蠻快的，也都配合政府要防疫活動，量體溫和戴口罩😷\\n但很適合溜小孩都寵物的地方，回家比較麻煩要清洗沙，這邊也有提供水可以清洗。', '第一次踏上漁光島，島上正值藝術季，人潮聚集在巿集及海灘上。太陽從密密的林間一閃一閃而下，海就在林後，而林是高高的木麻黃、黑板樹、橄仁樹、黃槿、構樹...左右兩側是不同的時空，一邊是藝術季熱鬧的巿集，一邊是靜謐的漁光雜貨舖。參加漁光小旅行的導覽活動，從漁光的記憶故事開始，感受漁光島的變遷與迷人氛圍。走在傳統的巷弄間，有著傳統房子以及現代的清水模建築，欣賞安靜樸實的漁光島，時光彷彿靜止。從林間秘境走進海灘，海在眼前展開，陽光在海面閃耀，又是一番不同的感受。藝術季，創作者在海灘上述說著他們對島上的故事...。夕陽時光，長長的倒影將海面染紅，波浪一波一波而來，不遠處帆船、小船點點，在夕陽下分外有味道。坐在沙灘，望著海面，就這樣我們也在夕陽中寫下漁光島的記憶。值得慢慢欣賞的漁光島。', '涼爽的午後\\n剛好漲潮在沙灘散步\\n涼涼的海水、也有人在衝浪玩水\\n怕曬太陽還有防風林可以散步\\n\\n蠻多人慢跑運動的\\n防波提還有人在釣魚🎣\\n欣賞夕陽餘暉也不錯\\n周圍好停車', '🔍 𝐈𝐧𝐬𝐭𝐚𝐠𝐫𝐚𝐦: 𝐒𝐚𝐮𝐧𝐭𝐞𝐫 𝐖𝐢𝐭𝐡 𝐎𝐮\\n\\n漁光島藝術季 今日登場！\\n以 安棲之嶼 為主軸，將大自然的海浪、沙灘、樹林與陽光為展場，開啟了為期21天的療癒之旅。\\n別於夕陽的喧囂，晨間漫步在海濱，更能體會作品表達的療癒之感！\\n\\nTransform the island into a unique healing space.\\nThe exhibition hall reformed this island by art work on the beach, the forests, the sunset, and the waves.\\n\\n——\\n\\n免費入場 𝗙𝗿𝗲𝗲 𝗲𝗻𝘁𝗿𝘆\\n展覽期間，管制車輛禁止入島\\n𝗔𝘂𝘁𝗵𝗼𝗿𝗶𝘇𝗲𝗱 𝗩𝗲𝗵𝗶𝗰𝗹𝗲𝘀 𝗢𝗻𝗹𝘆.\\n\\n🕚𝗘𝘅𝗵𝗶𝗯𝗶𝘁𝗶𝗼𝗻 𝗱𝗮𝘁𝗲 :\\n𝟯/𝟮𝟳 ~ 𝟰/𝟭𝟴\\n\\n𝗖𝗵𝗲𝗰𝗸 ＠yuguang_art_fest 𝗳𝗼𝗿 𝗳𝘂𝗿𝘁𝗵𝗲𝗿 𝗶𝗻𝗳𝗼.', '2019/06/08\\n\\n帶北部的友人來踩點，還好那時有帶她來看看已拆掉的落日塔，等待夕陽西下的同時拍了很多照片，看別人在水裡嬉戲，等到時間差不多找了個好位置坐下，等待太陽落入海中，吹著海風很愜意。\\n\\n不管心情好不好，來海邊走走真的會得到片刻寧靜。', '搭上漁光島藝術節更顯藝術優雅氛圍\\n2021漁光島藝術節“安棲之嶼”與自然環境共存結合藝術訴說揮別2020的動蕩不安，準備好背起行囊向一望無際的海與天空吶喊好想出國啊！！！探訪台南最美海岸與裝置藝術與逛創意美學市集 車輛無法進出管制中....\\n展出日期：2021/03/27 – 2021/04/18\\n\\n展出地點：漁光島月牙灣\\n\\n展期活動：漁光市集、草木森花之市、海邊觀星、漁光小旅行、芒果樹下的旅行寫作課等\\n\\n開放時間：10:00 – 18:00（免費入場）\\n\\n官方FB粉專：2021漁光島藝術節 – 安棲之嶼', '現在過去已經沒有之前的藝術裝置了，可惜了，漁光森林可以走走', '🌳2021 漁光島藝術節\\n今天來現場多了不少藝術裝置，走走晃晃心情絕美，春天的午後不悶熱，隨意拍都可以很網美，大家假日可以來踏踏稻浪，殺殺底片。😘😘😘 …']\n",
      "[5.0, 5.0, 5.0, 5.0, 4.0, 4.0, 5.0, 5.0, 5.0, 5.0, 5.0, 5.0, 5.0, 5.0, 5.0, 4.0, 5.0, 4.0, 5.0, 3.0, 5.0]\n"
     ]
    }
   ],
   "source": [
    "print(try_class.Review['Comment'])\n",
    "print(try_class.Review['Rating'])\n"
   ]
  },
  {
   "cell_type": "code",
   "execution_count": null,
   "metadata": {},
   "outputs": [],
   "source": []
  }
 ],
 "metadata": {
  "kernelspec": {
   "display_name": "Python 3",
   "language": "python",
   "name": "python3"
  },
  "language_info": {
   "codemirror_mode": {
    "name": "ipython",
    "version": 3
   },
   "file_extension": ".py",
   "mimetype": "text/x-python",
   "name": "python",
   "nbconvert_exporter": "python",
   "pygments_lexer": "ipython3",
   "version": "3.7.0"
  }
 },
 "nbformat": 4,
 "nbformat_minor": 2
}
